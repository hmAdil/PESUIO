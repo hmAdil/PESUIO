{
  "cells": [
    {
      "cell_type": "code",
      "execution_count": 44,
      "metadata": {
        "id": "n5yBuKQ2CeZb"
      },
      "outputs": [],
      "source": [
        "import numpy as np\n",
        "import torch\n",
        "import torch.nn as nn\n",
        "import torch.nn.functional as F\n",
        "from torch.utils.data import Dataset, DataLoader\n",
        "import os\n",
        "import time\n",
        "\n"
      ]
    },
    {
      "cell_type": "code",
      "execution_count": 45,
      "metadata": {
        "id": "i8yVygGqCeZf"
      },
      "outputs": [],
      "source": [
        "text = \"\"\"\n",
        "To be, or not to be, that is the question:\n",
        "Whether 'tis nobler in the mind to suffer\n",
        "The slings and arrows of outrageous fortune,\n",
        "Or to take Arms against a Sea of troubles...\n",
        "\"\"\""
      ]
    },
    {
      "cell_type": "code",
      "execution_count": 46,
      "metadata": {
        "id": "pxcTXGGrCeZh"
      },
      "outputs": [],
      "source": [
        "chars = sorted(list(set(text)))\n",
        "char_to_idx = {ch: i for i, ch in enumerate(chars)}\n",
        "idx_to_char = {i: ch for i, ch in enumerate(chars)}\n",
        "n_chars = len(chars)\n"
      ]
    },
    {
      "cell_type": "code",
      "execution_count": 47,
      "metadata": {
        "id": "nQGL6M91CeZj"
      },
      "outputs": [],
      "source": [
        "class TextDataset(Dataset):\n",
        "    def __init__(self, text, sequence_length=50):\n",
        "        self.sequence_length = sequence_length\n",
        "        self.text = text\n",
        "        self.total_sequences = len(text) - sequence_length\n",
        "\n",
        "    def __len__(self):\n",
        "        return self.total_sequences\n",
        "\n",
        "    def __getitem__(self, idx):\n",
        "        sequence = self.text[idx:idx + self.sequence_length]\n",
        "        target = self.text[idx + 1:idx + self.sequence_length + 1]\n",
        "\n",
        "        x = torch.tensor([char_to_idx[ch] for ch in sequence], dtype=torch.long)\n",
        "        y = torch.tensor([char_to_idx[ch] for ch in target], dtype=torch.long)\n",
        "\n",
        "        return x, y\n"
      ]
    },
    {
      "cell_type": "code",
      "execution_count": 48,
      "metadata": {
        "id": "UDofjwelCeZk"
      },
      "outputs": [],
      "source": [
        "class SimpleRNN(nn.Module):\n",
        "    def __init__(self, input_size, hidden_size, output_size):\n",
        "        super(SimpleRNN, self).__init__()\n",
        "        self.hidden_size = hidden_size\n",
        "        self.rnn = nn.RNN(input_size, hidden_size, batch_first=True)\n",
        "        self.fc = nn.Linear(hidden_size, output_size)\n",
        "\n",
        "    def forward(self, x, hidden=None):\n",
        "        x = F.one_hot(x, num_classes=n_chars).float()\n",
        "        output, hidden = self.rnn(x, hidden)\n",
        "        output = self.fc(output)\n",
        "        return output, hidden\n",
        "\n",
        "    def init_hidden(self, batch_size):\n",
        "        return\n"
      ]
    },
    {
      "cell_type": "code",
      "execution_count": 49,
      "metadata": {
        "id": "K5rmMJEHCeZl"
      },
      "outputs": [],
      "source": [
        "def train_model(model, dataloader, criterion, optimizer, epochs=10):\n",
        "    model.train()\n",
        "\n",
        "    for epoch in range(epochs):\n",
        "        total_loss = 0\n",
        "        for batch_idx, (x, y) in enumerate(dataloader):\n",
        "            hidden = model.init_hidden(x.size(0))\n",
        "\n",
        "            output, hidden = model(x, hidden)\n",
        "            loss = criterion(output.view(-1, n_chars), y.view(-1))\n",
        "\n",
        "            optimizer.zero_grad()\n",
        "            loss.backward()\n",
        "            optimizer.step()\n",
        "\n",
        "            total_loss += loss.item()\n",
        "\n",
        "        print(f'Epoch {epoch+1}, Loss: {total_loss/len(dataloader):.4f}')\n",
        "\n"
      ]
    },
    {
      "cell_type": "code",
      "execution_count": 50,
      "metadata": {
        "id": "IibxJ4HLCeZl"
      },
      "outputs": [],
      "source": [
        "def generate_text(model, seed_text, length=100, temperature=0.8):\n",
        "    model.eval()\n",
        "    current_text = seed_text\n",
        "    hidden = model.init_hidden(1)\n",
        "\n",
        "    with torch.no_grad():\n",
        "        for _ in range(length):\n",
        "            x = torch.tensor([char_to_idx[ch] for ch in current_text[-50:]], dtype=torch.long).unsqueeze(0)\n",
        "            output, hidden = model(x, hidden)\n",
        "            probs = F.softmax(output[0, -1] / temperature, dim=0)\n",
        "            next_char_idx = torch.multinomial(probs, 1).item()\n",
        "            current_text += idx_to_char[next_char_idx]\n",
        "\n",
        "    return current_text\n",
        "\n",
        "\n"
      ]
    },
    {
      "cell_type": "code",
      "execution_count": 51,
      "metadata": {
        "colab": {
          "base_uri": "https://localhost:8080/"
        },
        "id": "VeBxx1nFCeZm",
        "outputId": "c8135c52-2bc2-4c46-b714-220b4af55a37"
      },
      "outputs": [
        {
          "name": "stdout",
          "output_type": "stream",
          "text": [
            "Epoch 1, Loss: 3.1304\n",
            "Epoch 2, Loss: 2.7333\n",
            "Epoch 3, Loss: 2.3941\n",
            "Epoch 4, Loss: 1.9245\n",
            "Epoch 5, Loss: 1.4819\n",
            "Epoch 6, Loss: 1.0670\n",
            "Epoch 7, Loss: 0.7271\n",
            "Epoch 8, Loss: 0.4884\n",
            "Epoch 9, Loss: 0.3375\n",
            "Epoch 10, Loss: 0.2447\n"
          ]
        }
      ],
      "source": [
        "sequence_length = 50\n",
        "hidden_size = 128\n",
        "batch_size = 32\n",
        "\n",
        "dataset = TextDataset(text, sequence_length)\n",
        "dataloader = DataLoader(dataset, batch_size=batch_size, shuffle=True)\n",
        "\n",
        "model = SimpleRNN(n_chars, hidden_size, n_chars)\n",
        "criterion = nn.CrossEntropyLoss()\n",
        "optimizer = torch.optim.Adam(model.parameters(), lr=0.01)\n",
        "\n",
        "\n",
        "train_model(model, dataloader, criterion, optimizer, epochs=10)\n",
        "\n",
        "\n"
      ]
    },
    {
      "cell_type": "code",
      "execution_count": 52,
      "metadata": {
        "colab": {
          "base_uri": "https://localhost:8080/"
        },
        "id": "GhClhYvECeZo",
        "outputId": "6e17da9e-b085-4429-d86e-f0e0bc07c352"
      },
      "outputs": [
        {
          "name": "stdout",
          "output_type": "stream",
          "text": [
            "Temperature: 0.57\n",
            "Generated text:\n",
            "To be, or not to be, that is the question:\n",
            "Whether 'tis nobler in thermind to suffer\n",
            "The slings and arrows of outrageous fortune,\n",
            "Or to thke 'tis nobler indthe  'nd to be, that is the question:\n",
            "Whether 'tis nobler in th\n"
          ]
        }
      ],
      "source": [
        "seed = \"To be, or not to be\"\n",
        "try:\n",
        "\n",
        "    os.system('clear')\n",
        "\n",
        "\n",
        "    temperature = np.random.uniform(0.5, 1.2)\n",
        "    generated_text = generate_text(model, seed, length=200, temperature=temperature)\n",
        "\n",
        "    print(f\"Temperature: {temperature:.2f}\")\n",
        "    print(f\"Generated text:\\n{generated_text}\")\n",
        "\n",
        "\n",
        "    time.sleep(2)\n",
        "\n",
        "except KeyboardInterrupt:\n",
        "    print(\"\\nStopping text generation...\")"
      ]
    },
    {
      "cell_type": "markdown",
      "metadata": {
        "id": "YvAhRCUuQ6i5"
      },
      "source": [
        "# Implementation of LSTMs\n",
        "\n",
        "For simplicity, we will **generate** a sine wave dataset."
      ]
    },
    {
      "cell_type": "code",
      "execution_count": 53,
      "metadata": {
        "id": "ufMtaJBrQyif"
      },
      "outputs": [],
      "source": [
        "import torch\n",
        "import torch.nn as nn\n",
        "import numpy as np\n",
        "import matplotlib.pyplot as plt\n",
        "\n",
        "sequence_length = 50\n",
        "num_epochs = 100\n",
        "learning_rate = 0.001\n",
        "input_size = 1\n",
        "hidden_size = 128\n",
        "num_layers = 2\n",
        "output_size = 1\n",
        "\n",
        "time_steps = np.linspace(0, 100, 1000)\n",
        "data = np.arctan(time_steps)\n",
        "\n",
        "def create_sequences(data, sequence_length):\n",
        "    xs, ys = [], []\n",
        "    for i in range(len(data) - sequence_length):\n",
        "        xs.append(data[i:i+sequence_length])\n",
        "        ys.append(data[i+sequence_length])\n",
        "    return np.array(xs), np.array(ys)\n",
        "\n",
        "X, y = create_sequences(data, sequence_length)\n",
        "X = torch.from_numpy(X).float().unsqueeze(-1)  # (batch_size, seq_length, input_size)\n",
        "y = torch.from_numpy(y).float().unsqueeze(-1)  # (batch_size, output_size)\n",
        "\n",
        "# Split into training and testing\n",
        "train_size = int(len(X) * 0.8)\n",
        "test_size = len(X) - train_size\n",
        "\n",
        "train_X, test_X = X[:train_size], X[train_size:]\n",
        "train_y, test_y = y[:train_size], y[train_size:]\n"
      ]
    },
    {
      "cell_type": "code",
      "execution_count": 54,
      "metadata": {
        "colab": {
          "base_uri": "https://localhost:8080/",
          "height": 487
        },
        "id": "dfd2iXsXRLdq",
        "outputId": "5c134a0a-45ad-41cb-ccea-0ed121af16c6"
      },
      "outputs": [
        {
          "data": {
            "image/png": "[encoded data removed]",
            "text/plain": [
              "<Figure size 1000x500 with 1 Axes>"
            ]
          },
          "metadata": {},
          "output_type": "display_data"
        }
      ],
      "source": [
        "# Plot the generated sine wave dataset\n",
        "plt.figure(figsize=(10, 5))\n",
        "plt.plot(time_steps, data, label='Sine Wave')\n",
        "plt.title('Generated Sine Wave Dataset')\n",
        "plt.xlabel('Time Steps')\n",
        "plt.ylabel('Amplitude')\n",
        "plt.legend()\n",
        "plt.show()"
      ]
    },
    {
      "cell_type": "markdown",
      "metadata": {
        "id": "Sxs5twLvRb1l"
      },
      "source": [
        "# Model Definition"
      ]
    },
    {
      "cell_type": "code",
      "execution_count": 55,
      "metadata": {
        "id": "Wi6iJN2jRVMb"
      },
      "outputs": [],
      "source": [
        "class LSTMModel(nn.Module):\n",
        "    def __init__(self, input_size, hidden_size, num_layers, output_size):\n",
        "        super(LSTMModel, self).__init__()\n",
        "        self.hidden_size = hidden_size\n",
        "        self.num_layers = num_layers\n",
        "        self.lstm = nn.LSTM(input_size, hidden_size, num_layers, batch_first=True)\n",
        "        self.fc = nn.Linear(hidden_size, output_size)\n",
        "\n",
        "    def forward(self, x):\n",
        "        h0 = torch.zeros(self.num_layers, x.size(0), self.hidden_size).to(x.device)\n",
        "        c0 = torch.zeros(self.num_layers, x.size(0), self.hidden_size).to(x.device)\n",
        "\n",
        "        out, _ = self.lstm(x, (h0, c0))\n",
        "        out = self.fc(out[:, -1, :])  # Take the last output\n",
        "        return out\n",
        "\n",
        "# Initialize the model, loss function, and optimizer\n",
        "model = LSTMModel(input_size, hidden_size, num_layers, output_size)\n",
        "# MSE - mean square error\n",
        "# MAE - mean absolute error\n",
        "criterion = nn.MSELoss()\n",
        "optimizer = torch.optim.Adam(model.parameters(), lr = 0.01)"
      ]
    },
    {
      "cell_type": "code",
      "execution_count": 56,
      "metadata": {
        "colab": {
          "base_uri": "https://localhost:8080/"
        },
        "id": "pcy8A9NCRetx",
        "outputId": "bb9889c3-518a-4df4-a86b-a7a7e390b85b"
      },
      "outputs": [
        {
          "name": "stdout",
          "output_type": "stream",
          "text": [
            "Epoch [10/100], Loss: 0.2950\n",
            "Epoch [20/100], Loss: 0.0041\n",
            "Epoch [30/100], Loss: 0.0038\n",
            "Epoch [40/100], Loss: 0.0027\n",
            "Epoch [50/100], Loss: 0.0019\n",
            "Epoch [60/100], Loss: 0.0014\n",
            "Epoch [70/100], Loss: 0.0011\n",
            "Epoch [80/100], Loss: 0.0011\n",
            "Epoch [90/100], Loss: 0.0011\n",
            "Epoch [100/100], Loss: 0.0011\n"
          ]
        }
      ],
      "source": [
        "# Training the model\n",
        "for epoch in range(num_epochs):\n",
        "    model.train()\n",
        "    outputs = model(train_X)\n",
        "    optimizer.zero_grad()\n",
        "    loss = criterion(outputs, train_y)\n",
        "    loss.backward()\n",
        "    optimizer.step()\n",
        "\n",
        "    if (epoch+1) % 10 == 0:\n",
        "        print(f'Epoch [{epoch+1}/{num_epochs}], Loss: {loss.item():.4f}')"
      ]
    },
    {
      "cell_type": "code",
      "execution_count": 57,
      "metadata": {
        "colab": {
          "base_uri": "https://localhost:8080/",
          "height": 564
        },
        "id": "wKgMfO5yRivW",
        "outputId": "62cf152f-62b2-4aa3-88a7-644f6db2b30c"
      },
      "outputs": [
        {
          "data": {
            "image/png": "[encoded data removed]",
            "text/plain": [
              "<Figure size 1200x600 with 1 Axes>"
            ]
          },
          "metadata": {},
          "output_type": "display_data"
        }
      ],
      "source": [
        "# Plotting the dataset (sine wave) and LSTM predictions\n",
        "plt.figure(figsize=(12, 6))\n",
        "\n",
        "# Plot the actual sine wave (full dataset)\n",
        "plt.plot(time_steps, data, label='Original Sine Wave', color='blue', alpha=0.6)\n",
        "\n",
        "# Plot LSTM predictions (only for test data)\n",
        "test_predict = model(test_X).detach().numpy()  # Get model predictions on test set\n",
        "test_y_np = test_y.numpy()\n",
        "\n",
        "# Shift predictions to align with the corresponding time steps in the plot\n",
        "plt.plot(time_steps[-test_size:], test_predict, label='LSTM Predictions', color='red', alpha=0.8)\n",
        "\n",
        "# Add labels and title\n",
        "plt.title('LSTM Predictions vs Original Sine Wave')\n",
        "plt.xlabel('Time Steps')\n",
        "plt.ylabel('Amplitude')\n",
        "plt.legend()\n",
        "\n",
        "# Show the plot\n",
        "plt.show()"
      ]
    }
  ],
  "metadata": {
    "colab": {
      "provenance": []
    },
    "kernelspec": {
      "display_name": "Python 3",
      "language": "python",
      "name": "python3"
    },
    "language_info": {
      "codemirror_mode": {
        "name": "ipython",
        "version": 3
      },
      "file_extension": ".py",
      "mimetype": "text/x-python",
      "name": "python",
      "nbconvert_exporter": "python",
      "pygments_lexer": "ipython3",
      "version": "3.12.7"
    }
  },
  "nbformat": 4,
  "nbformat_minor": 0
}
