{
 "cells": [
  {
   "cell_type": "markdown",
   "metadata": {},
   "source": [
    "# Tokenization - OpenAI Tiktoken"
   ]
  },
  {
   "cell_type": "code",
   "execution_count": 16,
   "metadata": {},
   "outputs": [
    {
     "name": "stdout",
     "output_type": "stream",
     "text": [
      "Encoded:\n",
      "[198, 1385, 413, 11, 503, 625, 316, 413, 11, 484, 382, 290, 4928, 734, 31539, 461, 109773, 18460, 1639, 306, 290, 4246, 316, 17170, 198, 976, 1925, 963, 326, 76213, 328, 116325, 46505, 412, 2251, 316, 2304, 85843, 4372, 261, 22114, 328, 31378, 4908]\n",
      "\n",
      "Decoded:\n",
      "To be, or not to be, that is the question:\n",
      "Whether 'tis nobler in the mind to suffer\n",
      "The slings and arrows of outrageous fortune,\n",
      "Or to take Arms against a Sea of troubles...\n",
      "\n",
      "\n",
      "True\n"
     ]
    }
   ],
   "source": [
    "#Tiktoken is a fast BPE tokeniser for use with OpenAi's models\n",
    "import tiktoken\n",
    "enc = tiktoken.get_encoding(\"o200k_base\")\n",
    "assert enc.decode(enc.encode(\"hello world\")) == \"hello world\"\n",
    "\n",
    "# To get the tokeniser corresponding to a specific model in the OpenAI API\n",
    "enc = tiktoken.encoding_for_model(\"gpt-4o\")\n",
    "\n",
    "text = \"\"\"\n",
    "To be, or not to be, that is the question:\n",
    "Whether 'tis nobler in the mind to suffer\n",
    "The slings and arrows of outrageous fortune,\n",
    "Or to take Arms against a Sea of troubles...\n",
    "\"\"\"\n",
    "\n",
    "encoded = enc.encode(text)\n",
    "decoded = enc.decode(encoded)\n",
    "print(f\"Encoded:\\n{encoded}\\n\")\n",
    "print(f\"Decoded:{decoded}\\n\")\n",
    "print(decoded == text)"
   ]
  },
  {
   "cell_type": "code",
   "execution_count": 18,
   "metadata": {},
   "outputs": [
    {
     "name": "stdout",
     "output_type": "stream",
     "text": [
      "\u001b[48;5;167mM\u001b[48;5;179mo\u001b[48;5;185mo\u001b[48;5;77mr\u001b[48;5;80mt\u001b[48;5;68my\u001b[0m\n",
      "\u001b[48;5;167mM\u001b[48;5;179mo\u001b[48;5;185mor\u001b[48;5;80mt\u001b[48;5;68my\u001b[0m\n",
      "\u001b[48;5;167mM\u001b[48;5;179mo\u001b[48;5;185mort\u001b[48;5;68my\u001b[0m\n",
      "\u001b[48;5;167mMo\u001b[48;5;185mort\u001b[48;5;68my\u001b[0m\n",
      "\n",
      "\u001b[48;5;167m \u001b[48;5;179mP\u001b[48;5;185me\u001b[48;5;77mr\u001b[48;5;80me\u001b[48;5;68mp\u001b[48;5;134ma\u001b[0m\n",
      "\u001b[48;5;167m \u001b[48;5;179mP\u001b[48;5;185mer\u001b[48;5;80me\u001b[48;5;68mp\u001b[48;5;134ma\u001b[0m\n",
      "\u001b[48;5;167m P\u001b[48;5;185mer\u001b[48;5;80me\u001b[48;5;68mp\u001b[48;5;134ma\u001b[0m\n",
      "\u001b[48;5;167m P\u001b[48;5;185mere\u001b[48;5;68mp\u001b[48;5;134ma\u001b[0m\n",
      "\u001b[48;5;167m P\u001b[48;5;185mere\u001b[48;5;68mpa\u001b[0m\n",
      "\u001b[48;5;167m Pere\u001b[48;5;68mpa\u001b[0m\n",
      "\n",
      "\u001b[48;5;167m \u001b[48;5;179mi\u001b[48;5;185ms\u001b[0m\n",
      "\u001b[48;5;167m \u001b[48;5;179mis\u001b[0m\n",
      "\u001b[48;5;167m is\u001b[0m\n",
      "\n",
      "\u001b[48;5;167m \u001b[48;5;179mG\u001b[48;5;185ma\u001b[48;5;77my\u001b[0m\n",
      "\u001b[48;5;167m \u001b[48;5;179mG\u001b[48;5;185may\u001b[0m\n",
      "\u001b[48;5;167m G\u001b[48;5;185may\u001b[0m\n",
      "\u001b[48;5;167m Gay\u001b[0m\n",
      "\n"
     ]
    },
    {
     "data": {
      "text/plain": [
       "[26694, 371, 88, 73578, 6733, 374, 21334]"
      ]
     },
     "execution_count": 18,
     "metadata": {},
     "output_type": "execute_result"
    }
   ],
   "source": [
    "from tiktoken._educational import *\n",
    "enc = tiktoken.get_encoding(\"cl100k_base\")\n",
    "enc = SimpleBytePairEncoding.from_tiktoken(\"cl100k_base\")\n",
    "enc.encode(\"Moorty Perepa is Gay\")"
   ]
  },
  {
   "cell_type": "code",
   "execution_count": null,
   "metadata": {},
   "outputs": [],
   "source": []
  }
 ],
 "metadata": {
  "kernelspec": {
   "display_name": "Python 3",
   "language": "python",
   "name": "python3"
  },
  "language_info": {
   "codemirror_mode": {
    "name": "ipython",
    "version": 3
   },
   "file_extension": ".py",
   "mimetype": "text/x-python",
   "name": "python",
   "nbconvert_exporter": "python",
   "pygments_lexer": "ipython3",
   "version": "3.12.7"
  }
 },
 "nbformat": 4,
 "nbformat_minor": 2
}
